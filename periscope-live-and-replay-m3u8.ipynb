{
 "cells": [
  {
   "cell_type": "code",
   "execution_count": 85,
   "metadata": {},
   "outputs": [],
   "source": [
    "import requests\n",
    "import json\n",
    "import random\n",
    "import re\n",
    "import os\n",
    "\n",
    "\n",
    "_baseUrl = 'https://pscp.tv/'\n",
    "broadCastURL = 'https://proxsee.pscp.tv/api/v2/accessVideoPublic?broadcast_id=%s'\n",
    "\n",
    "_apiUrl = 'https://api.periscope.tv/api/v2'\n",
    "\n",
    "_userAgent = f'Mozilla/5.0 (Windows NT 10.0; Win64; x64) AppleWebKit/537.36 (KHTML, like Gecko) Chrome/79.0.3945.{random.randint(0, 9999)} Safari/537.{random.randint(0, 99)}'\n",
    "_apiHeaders = {\n",
    "    'User-Agent': _userAgent,\n",
    "    'Referer': _baseUrl,\n",
    "}\n",
    "\n",
    "\n",
    "def _getApiMethod(method):\n",
    "    return _apiUrl + '/' + method\n",
    "\n",
    "def _get_api_data(endpoint, params = {}):\n",
    "    response = requests.get(endpoint, params = params, headers = _apiHeaders)\n",
    "    obj = {}\n",
    "    try:\n",
    "        obj = response.json()\n",
    "    except json.JSONDecodeError as e:\n",
    "        print(e)\n",
    "    return obj         \n",
    "\n",
    "def _crawler_ts(b_id,live_list):\n",
    "    url = _getApiMethod('accessVideoPublic')+ '?broadcast_id=' + b_id\n",
    "\n",
    "    a = _get_api_data(url)\n",
    "\n",
    "    if 'hls_url' in a:\n",
    "        basename = os.path.basename(a['hls_url'])\n",
    "        tsurl = a['hls_url'].split(basename)        \n",
    "        m3u8State = True        \n",
    "        while m3u8State:\n",
    "            response = requests.get(a['hls_url'])\n",
    "            if response.status_code == 200:        \n",
    "                file = response.text            \n",
    "                m3u8_lines = file.split( '\\n' )\n",
    "                for line in m3u8_lines:\n",
    "                    b = _get_api_data(url)\n",
    "                    if 'replay_url' in b:\n",
    "                        m3u8State = False\n",
    "                        print(b['replay_url'])\n",
    "                        break\n",
    "                    elif re.search(\"chunk_\", line):\n",
    "                        if line not in live_list.keys():\n",
    "                            live_list[line] = tsurl[0]+line                     \n",
    "\n",
    "            else:\n",
    "                print(live_list)\n",
    "                \n",
    "    elif 'replay_url' in a:\n",
    "        print(a['replay_url'])               "
   ]
  },
  {
   "cell_type": "code",
   "execution_count": 87,
   "metadata": {},
   "outputs": [
    {
     "name": "stdout",
     "output_type": "stream",
     "text": [
      "https://prod-fastly-eu-central-1.video.periscope.tv/Transcoding/v1/hls/Gw2xDHPwW4EG31o4fwQVMgpCE15P7ah5nVwP9edeNUh7A1fR0M1kuFZMWvmogSPnPgXbhGrDi1xmoYLeeR-0mg/non_transcode/eu-central-1/periscope-replay-direct-prod-eu-central-1-public/playlist_16837308368623412103.m3u8?type=replay\n"
     ]
    }
   ],
   "source": [
    "live_list = {}\n",
    "_crawler_ts('1gqxvoAwDppKB',live_list)"
   ]
  },
  {
   "cell_type": "code",
   "execution_count": 63,
   "metadata": {},
   "outputs": [
    {
     "name": "stdout",
     "output_type": "stream",
     "text": [
      "{'chunk_1609432783243917556_857_a.ts?type=live': 'https://prod-fastly-eu-west-1.video.periscope.tv/Transcoding/v1/hls/rsLWRCGQUbqoUlkAc_hJHgpljADI4MKoKBkTgaKq_h5QtQDvF0FabFVe-xlFTRXQ1S6I1LnTMUamPAdDE_6_cQ/non_transcode/eu-west-1/periscope-replay-direct-prod-eu-west-1-public/chunk_1609432783243917556_857_a.ts?type=live', 'chunk_1609432785169317536_858_a.ts?type=live': 'https://prod-fastly-eu-west-1.video.periscope.tv/Transcoding/v1/hls/rsLWRCGQUbqoUlkAc_hJHgpljADI4MKoKBkTgaKq_h5QtQDvF0FabFVe-xlFTRXQ1S6I1LnTMUamPAdDE_6_cQ/non_transcode/eu-west-1/periscope-replay-direct-prod-eu-west-1-public/chunk_1609432785169317536_858_a.ts?type=live', 'chunk_1609432787144972990_859_a.ts?type=live': 'https://prod-fastly-eu-west-1.video.periscope.tv/Transcoding/v1/hls/rsLWRCGQUbqoUlkAc_hJHgpljADI4MKoKBkTgaKq_h5QtQDvF0FabFVe-xlFTRXQ1S6I1LnTMUamPAdDE_6_cQ/non_transcode/eu-west-1/periscope-replay-direct-prod-eu-west-1-public/chunk_1609432787144972990_859_a.ts?type=live', 'chunk_1609432789226036040_860_a.ts?type=live': 'https://prod-fastly-eu-west-1.video.periscope.tv/Transcoding/v1/hls/rsLWRCGQUbqoUlkAc_hJHgpljADI4MKoKBkTgaKq_h5QtQDvF0FabFVe-xlFTRXQ1S6I1LnTMUamPAdDE_6_cQ/non_transcode/eu-west-1/periscope-replay-direct-prod-eu-west-1-public/chunk_1609432789226036040_860_a.ts?type=live', 'chunk_1609432791207648485_861_a.ts?type=live': 'https://prod-fastly-eu-west-1.video.periscope.tv/Transcoding/v1/hls/rsLWRCGQUbqoUlkAc_hJHgpljADI4MKoKBkTgaKq_h5QtQDvF0FabFVe-xlFTRXQ1S6I1LnTMUamPAdDE_6_cQ/non_transcode/eu-west-1/periscope-replay-direct-prod-eu-west-1-public/chunk_1609432791207648485_861_a.ts?type=live', 'chunk_1609432793237163267_862_a.ts?type=live': 'https://prod-fastly-eu-west-1.video.periscope.tv/Transcoding/v1/hls/rsLWRCGQUbqoUlkAc_hJHgpljADI4MKoKBkTgaKq_h5QtQDvF0FabFVe-xlFTRXQ1S6I1LnTMUamPAdDE_6_cQ/non_transcode/eu-west-1/periscope-replay-direct-prod-eu-west-1-public/chunk_1609432793237163267_862_a.ts?type=live', 'chunk_1609432795211960254_863_a.ts?type=live': 'https://prod-fastly-eu-west-1.video.periscope.tv/Transcoding/v1/hls/rsLWRCGQUbqoUlkAc_hJHgpljADI4MKoKBkTgaKq_h5QtQDvF0FabFVe-xlFTRXQ1S6I1LnTMUamPAdDE_6_cQ/non_transcode/eu-west-1/periscope-replay-direct-prod-eu-west-1-public/chunk_1609432795211960254_863_a.ts?type=live', 'chunk_1609432797201710786_864_a.ts?type=live': 'https://prod-fastly-eu-west-1.video.periscope.tv/Transcoding/v1/hls/rsLWRCGQUbqoUlkAc_hJHgpljADI4MKoKBkTgaKq_h5QtQDvF0FabFVe-xlFTRXQ1S6I1LnTMUamPAdDE_6_cQ/non_transcode/eu-west-1/periscope-replay-direct-prod-eu-west-1-public/chunk_1609432797201710786_864_a.ts?type=live', 'chunk_1609432799233337503_865_a.ts?type=live': 'https://prod-fastly-eu-west-1.video.periscope.tv/Transcoding/v1/hls/rsLWRCGQUbqoUlkAc_hJHgpljADI4MKoKBkTgaKq_h5QtQDvF0FabFVe-xlFTRXQ1S6I1LnTMUamPAdDE_6_cQ/non_transcode/eu-west-1/periscope-replay-direct-prod-eu-west-1-public/chunk_1609432799233337503_865_a.ts?type=live'}\n"
     ]
    }
   ],
   "source": [
    "print(live_list)"
   ]
  },
  {
   "cell_type": "code",
   "execution_count": null,
   "metadata": {},
   "outputs": [],
   "source": []
  }
 ],
 "metadata": {
  "kernelspec": {
   "display_name": "Python 3",
   "language": "python",
   "name": "python3"
  },
  "language_info": {
   "codemirror_mode": {
    "name": "ipython",
    "version": 3
   },
   "file_extension": ".py",
   "mimetype": "text/x-python",
   "name": "python",
   "nbconvert_exporter": "python",
   "pygments_lexer": "ipython3",
   "version": "3.9.1"
  }
 },
 "nbformat": 4,
 "nbformat_minor": 4
}
